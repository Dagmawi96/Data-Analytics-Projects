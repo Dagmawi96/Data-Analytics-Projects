{
 "cells": [
  {
   "cell_type": "code",
   "execution_count": 27,
   "id": "2f4ebe29-b356-4eb8-bc12-2561e5380986",
   "metadata": {},
   "outputs": [
    {
     "name": "stdin",
     "output_type": "stream",
     "text": [
      "Enter your first and last name:  mah\n",
      "Enter your weight in KGs:  800\n",
      "Enter your weight in Meters:  1.82\n"
     ]
    },
    {
     "name": "stdout",
     "output_type": "stream",
     "text": [
      "241.51672503320853\n",
      "mah, you are obese. Consolte your doctor for healthier deitary habit\n"
     ]
    }
   ],
   "source": [
    "name=input(\"Enter your first and last name: \") \n",
    "\n",
    "weight=int(input(\"Enter your weight in KGs: \"))\n",
    "\n",
    "height=float(input(\"Enter your weight in Meters: \"))\n",
    "\n",
    "BMI= weight / (height*height)\n",
    "\n",
    "print(BMI)\n",
    "\n",
    "if BMI>0:\n",
    "  if(BMI<18.5):\n",
    "   print(name+\", you are underweight. Consolte your doctor for proper eating habits.\")\n",
    "  elif (BMI<=24.9):\n",
    "   print(name+\", you are healthy weight. Keep up your normal deitary plan.\")\n",
    "  elif (BMI<=29.9):\n",
    "   print(name+\", you are overweight. Implement a healthier deitary habit.\")\n",
    "  elif(BMI>30.0):\n",
    "   print(name+\", you are obese. Consolte your doctor for healthier deitary habit.\")\n",
    "else:\n",
    "    print(\"Input Invalid\")\n"
   ]
  },
  {
   "cell_type": "code",
   "execution_count": null,
   "id": "56c58e17-c625-44de-baf8-d4211c340adb",
   "metadata": {},
   "outputs": [],
   "source": []
  },
  {
   "cell_type": "code",
   "execution_count": null,
   "id": "45a188d4-6e02-4756-bf96-4f25a7f578a8",
   "metadata": {},
   "outputs": [],
   "source": []
  },
  {
   "cell_type": "code",
   "execution_count": null,
   "id": "a63088dd-6eff-4794-b03a-eec2b64805bc",
   "metadata": {},
   "outputs": [],
   "source": []
  },
  {
   "cell_type": "code",
   "execution_count": null,
   "id": "dfbcac63-58db-4304-9c00-155a4b61a962",
   "metadata": {},
   "outputs": [],
   "source": []
  },
  {
   "cell_type": "code",
   "execution_count": null,
   "id": "d5192ea8-dec5-4fcd-b076-d4c7260ad97a",
   "metadata": {},
   "outputs": [],
   "source": []
  },
  {
   "cell_type": "code",
   "execution_count": null,
   "id": "57103593-cc10-4208-a01b-cf9a3e0d393d",
   "metadata": {},
   "outputs": [],
   "source": []
  },
  {
   "cell_type": "code",
   "execution_count": null,
   "id": "eee38a99-64d4-4195-b4aa-1b9ba56a0124",
   "metadata": {},
   "outputs": [],
   "source": []
  },
  {
   "cell_type": "code",
   "execution_count": null,
   "id": "13a286ab-ab92-4978-b41b-ae9cafd0d44e",
   "metadata": {},
   "outputs": [],
   "source": []
  },
  {
   "cell_type": "code",
   "execution_count": null,
   "id": "d2a34c9c-6316-46bf-81af-7785b071e194",
   "metadata": {},
   "outputs": [],
   "source": []
  },
  {
   "cell_type": "code",
   "execution_count": null,
   "id": "d1a7ebe4-58b5-4749-a307-f050443531e8",
   "metadata": {},
   "outputs": [],
   "source": []
  },
  {
   "cell_type": "code",
   "execution_count": null,
   "id": "5ae6007c-6027-4e43-a13b-50e75e930a9a",
   "metadata": {},
   "outputs": [],
   "source": []
  },
  {
   "cell_type": "code",
   "execution_count": null,
   "id": "32e1bb06-5697-4de4-88ae-88f8c2b3768a",
   "metadata": {},
   "outputs": [],
   "source": []
  },
  {
   "cell_type": "code",
   "execution_count": null,
   "id": "2c0e25f7-3962-4b97-9674-c9b5194046c2",
   "metadata": {},
   "outputs": [],
   "source": []
  },
  {
   "cell_type": "code",
   "execution_count": null,
   "id": "c8f42b39-6fc2-4012-87b2-2e4933a0157f",
   "metadata": {},
   "outputs": [],
   "source": []
  },
  {
   "cell_type": "code",
   "execution_count": null,
   "id": "c149b467-4ac0-4ad3-8584-51ce1a192f4c",
   "metadata": {},
   "outputs": [],
   "source": []
  },
  {
   "cell_type": "code",
   "execution_count": null,
   "id": "e8d6eb6b-abc6-4522-bceb-0eac1978f3b2",
   "metadata": {},
   "outputs": [],
   "source": []
  },
  {
   "cell_type": "code",
   "execution_count": null,
   "id": "6ac3dd37-06c1-45c2-8a05-7d35ecd2215b",
   "metadata": {},
   "outputs": [],
   "source": []
  }
 ],
 "metadata": {
  "kernelspec": {
   "display_name": "Python 3 (ipykernel)",
   "language": "python",
   "name": "python3"
  },
  "language_info": {
   "codemirror_mode": {
    "name": "ipython",
    "version": 3
   },
   "file_extension": ".py",
   "mimetype": "text/x-python",
   "name": "python",
   "nbconvert_exporter": "python",
   "pygments_lexer": "ipython3",
   "version": "3.10.9"
  }
 },
 "nbformat": 4,
 "nbformat_minor": 5
}
