{
 "cells": [
  {
   "cell_type": "code",
   "execution_count": 2,
   "id": "81fa2a45-5304-4776-80a2-3c4497a788b8",
   "metadata": {},
   "outputs": [],
   "source": [
    "import os, shutil"
   ]
  },
  {
   "cell_type": "code",
   "execution_count": 3,
   "id": "06cd9696-4c85-4821-875d-71bba91af87b",
   "metadata": {},
   "outputs": [],
   "source": [
    "path = r\"/Users/birukfanueltadesse/Desktop/Files for port/\""
   ]
  },
  {
   "cell_type": "code",
   "execution_count": 4,
   "id": "3ebb4ffa-d188-4abe-8d5f-c756a8be6b3f",
   "metadata": {},
   "outputs": [],
   "source": [
    "file_name= os.listdir(path)"
   ]
  },
  {
   "cell_type": "code",
   "execution_count": 5,
   "id": "3fbc2a5f-c1e6-4cf7-b497-4061197c5638",
   "metadata": {},
   "outputs": [],
   "source": [
    "folder_names = ['csv files','xlsx files']\n",
    "\n",
    "\n",
    "for loop in range(0,2):\n",
    "      if not os.path.exists(path + folder_names[loop]):\n",
    "          os.makedirs((path + folder_names[loop]))\n",
    "\n",
    "\n",
    "for file in file_name:\n",
    "    if \".csv\" in file and not os.path.exists(path + \"csv files/\" + file):\n",
    "        shutil.move(path + file, path + \"csv files/\" + file)\n",
    "    elif \".xlsx\" in file and not os.path.exists(path + \"xlsx files/\" + file):\n",
    "        shutil.move(path + file, path + \"xlsx files/\" + file)\n"
   ]
  },
  {
   "cell_type": "code",
   "execution_count": null,
   "id": "dc2405c9-5514-4351-a0a4-cb35d6d58450",
   "metadata": {},
   "outputs": [],
   "source": []
  },
  {
   "cell_type": "code",
   "execution_count": null,
   "id": "5efdf1ed-694f-4c9d-8d9e-ef42e671ef2b",
   "metadata": {},
   "outputs": [],
   "source": []
  },
  {
   "cell_type": "code",
   "execution_count": null,
   "id": "3f91f0dc-05c1-4bcf-a1dc-1cc54b0207de",
   "metadata": {},
   "outputs": [],
   "source": []
  },
  {
   "cell_type": "code",
   "execution_count": null,
   "id": "1b5c8144-6413-4617-a701-508f0b5b36c1",
   "metadata": {},
   "outputs": [],
   "source": []
  },
  {
   "cell_type": "code",
   "execution_count": null,
   "id": "8d1d8f09-b681-4ebb-9077-dbfe35097d8e",
   "metadata": {},
   "outputs": [],
   "source": []
  },
  {
   "cell_type": "code",
   "execution_count": null,
   "id": "4a20fa08-4f97-42b1-a386-427eb953f427",
   "metadata": {},
   "outputs": [],
   "source": []
  },
  {
   "cell_type": "code",
   "execution_count": null,
   "id": "dc465134-9d28-49c1-8183-ef0ee8344eda",
   "metadata": {},
   "outputs": [],
   "source": []
  },
  {
   "cell_type": "code",
   "execution_count": null,
   "id": "5318ff46-8711-434f-bda7-fb7276f7d50b",
   "metadata": {},
   "outputs": [],
   "source": []
  },
  {
   "cell_type": "code",
   "execution_count": null,
   "id": "6faaa1d7-8c46-460c-864e-23f8670389d1",
   "metadata": {},
   "outputs": [],
   "source": []
  },
  {
   "cell_type": "code",
   "execution_count": null,
   "id": "3ff3700f-ce4e-40b6-bbda-1cf65da84bdc",
   "metadata": {},
   "outputs": [],
   "source": []
  },
  {
   "cell_type": "code",
   "execution_count": null,
   "id": "48fca31b-225d-4844-ae75-43de29fb6e3f",
   "metadata": {},
   "outputs": [],
   "source": []
  },
  {
   "cell_type": "code",
   "execution_count": null,
   "id": "23b041a1-6da6-41ea-b988-ccd49fbc267b",
   "metadata": {},
   "outputs": [],
   "source": []
  },
  {
   "cell_type": "code",
   "execution_count": null,
   "id": "16443410-a0b3-40f5-8eb1-e2e1765a2bec",
   "metadata": {},
   "outputs": [],
   "source": []
  }
 ],
 "metadata": {
  "kernelspec": {
   "display_name": "Python 3 (ipykernel)",
   "language": "python",
   "name": "python3"
  },
  "language_info": {
   "codemirror_mode": {
    "name": "ipython",
    "version": 3
   },
   "file_extension": ".py",
   "mimetype": "text/x-python",
   "name": "python",
   "nbconvert_exporter": "python",
   "pygments_lexer": "ipython3",
   "version": "3.10.9"
  }
 },
 "nbformat": 4,
 "nbformat_minor": 5
}
